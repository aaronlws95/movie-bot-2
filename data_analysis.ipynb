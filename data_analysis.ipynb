{
 "cells": [
  {
   "cell_type": "code",
   "execution_count": 81,
   "id": "agreed-bernard",
   "metadata": {},
   "outputs": [],
   "source": [
    "import pandas as pd\n",
    "import numpy as np\n",
    "import matplotlib.pyplot as plt\n",
    "from datetime import datetime\n",
    "from pathlib import Path\n",
    "\n",
    "%matplotlib inline\n",
    "plt.rcParams[\"figure.figsize\"] = (8,8)\n",
    "plt.rcParams['font.size'] = 16"
   ]
  },
  {
   "cell_type": "code",
   "execution_count": 12,
   "id": "breathing-ability",
   "metadata": {},
   "outputs": [],
   "source": [
    "users = [\"Aaron\", \"Brian\", \"Kenn\", \"Liwen\", \"Raymond\"]\n",
    "user_df = {u:pd.read_csv(f\"data/user_scores/{u}.csv\") for u in users}"
   ]
  },
  {
   "cell_type": "code",
   "execution_count": 19,
   "id": "sudden-corner",
   "metadata": {},
   "outputs": [
    {
     "data": {
      "text/html": [
       "<div>\n",
       "<style scoped>\n",
       "    .dataframe tbody tr th:only-of-type {\n",
       "        vertical-align: middle;\n",
       "    }\n",
       "\n",
       "    .dataframe tbody tr th {\n",
       "        vertical-align: top;\n",
       "    }\n",
       "\n",
       "    .dataframe thead th {\n",
       "        text-align: right;\n",
       "    }\n",
       "</style>\n",
       "<table border=\"1\" class=\"dataframe\">\n",
       "  <thead>\n",
       "    <tr style=\"text-align: right;\">\n",
       "      <th></th>\n",
       "      <th>Title</th>\n",
       "      <th>Score</th>\n",
       "    </tr>\n",
       "  </thead>\n",
       "  <tbody>\n",
       "    <tr>\n",
       "      <th>0</th>\n",
       "      <td>Get Out</td>\n",
       "      <td>7.8</td>\n",
       "    </tr>\n",
       "    <tr>\n",
       "      <th>1</th>\n",
       "      <td>Mulholland Drive</td>\n",
       "      <td>8.5</td>\n",
       "    </tr>\n",
       "    <tr>\n",
       "      <th>2</th>\n",
       "      <td>Breadwinner</td>\n",
       "      <td>8.0</td>\n",
       "    </tr>\n",
       "    <tr>\n",
       "      <th>3</th>\n",
       "      <td>First Man</td>\n",
       "      <td>8.0</td>\n",
       "    </tr>\n",
       "    <tr>\n",
       "      <th>4</th>\n",
       "      <td>Cloud Atlas</td>\n",
       "      <td>5.0</td>\n",
       "    </tr>\n",
       "  </tbody>\n",
       "</table>\n",
       "</div>"
      ],
      "text/plain": [
       "              Title  Score\n",
       "0           Get Out    7.8\n",
       "1  Mulholland Drive    8.5\n",
       "2       Breadwinner    8.0\n",
       "3         First Man    8.0\n",
       "4       Cloud Atlas    5.0"
      ]
     },
     "execution_count": 19,
     "metadata": {},
     "output_type": "execute_result"
    }
   ],
   "source": [
    "user_df[\"Aaron\"].head()"
   ]
  },
  {
   "cell_type": "code",
   "execution_count": 13,
   "id": "expanded-application",
   "metadata": {},
   "outputs": [],
   "source": [
    "disc_df = pd.read_csv(\"data/Discussions.csv\")"
   ]
  },
  {
   "cell_type": "code",
   "execution_count": 103,
   "id": "maritime-water",
   "metadata": {},
   "outputs": [],
   "source": [
    "watch_info_df = pd.read_csv(\"data/watch_info.csv\")"
   ]
  },
  {
   "cell_type": "code",
   "execution_count": 43,
   "id": "cardiovascular-conversation",
   "metadata": {},
   "outputs": [],
   "source": [
    "for u in users:\n",
    "    disc_df[u] = disc_df[\"Title\"].map(user_df[u].set_index('Title')['Score'])"
   ]
  },
  {
   "cell_type": "code",
   "execution_count": 55,
   "id": "possible-rubber",
   "metadata": {},
   "outputs": [],
   "source": [
    "disc_df[\"Average\"] = np.mean(disc_df[users], axis=1)"
   ]
  },
  {
   "cell_type": "code",
   "execution_count": 57,
   "id": "yellow-special",
   "metadata": {
    "scrolled": true
   },
   "outputs": [
    {
     "data": {
      "text/html": [
       "<div>\n",
       "<style scoped>\n",
       "    .dataframe tbody tr th:only-of-type {\n",
       "        vertical-align: middle;\n",
       "    }\n",
       "\n",
       "    .dataframe tbody tr th {\n",
       "        vertical-align: top;\n",
       "    }\n",
       "\n",
       "    .dataframe thead th {\n",
       "        text-align: right;\n",
       "    }\n",
       "</style>\n",
       "<table border=\"1\" class=\"dataframe\">\n",
       "  <thead>\n",
       "    <tr style=\"text-align: right;\">\n",
       "      <th></th>\n",
       "      <th>Title</th>\n",
       "      <th>Type</th>\n",
       "      <th>Discussion Date</th>\n",
       "      <th>Chosen By</th>\n",
       "      <th>Aaron</th>\n",
       "      <th>Brian</th>\n",
       "      <th>Kenn</th>\n",
       "      <th>Liwen</th>\n",
       "      <th>Raymond</th>\n",
       "      <th>Average</th>\n",
       "    </tr>\n",
       "  </thead>\n",
       "  <tbody>\n",
       "    <tr>\n",
       "      <th>0</th>\n",
       "      <td>Get Out</td>\n",
       "      <td>watch</td>\n",
       "      <td>24/02/2019</td>\n",
       "      <td>Liwen</td>\n",
       "      <td>7.8</td>\n",
       "      <td>8.5</td>\n",
       "      <td>8.0</td>\n",
       "      <td>8.0</td>\n",
       "      <td>NaN</td>\n",
       "      <td>8.075</td>\n",
       "    </tr>\n",
       "    <tr>\n",
       "      <th>1</th>\n",
       "      <td>Mulholland Drive</td>\n",
       "      <td>watch</td>\n",
       "      <td>03/03/2019</td>\n",
       "      <td>Kenn</td>\n",
       "      <td>8.5</td>\n",
       "      <td>9.3</td>\n",
       "      <td>8.5</td>\n",
       "      <td>8.8</td>\n",
       "      <td>NaN</td>\n",
       "      <td>8.775</td>\n",
       "    </tr>\n",
       "    <tr>\n",
       "      <th>2</th>\n",
       "      <td>Breadwinner</td>\n",
       "      <td>watch</td>\n",
       "      <td>10/03/2019</td>\n",
       "      <td>Aaron</td>\n",
       "      <td>8.0</td>\n",
       "      <td>7.5</td>\n",
       "      <td>6.8</td>\n",
       "      <td>7.8</td>\n",
       "      <td>NaN</td>\n",
       "      <td>7.525</td>\n",
       "    </tr>\n",
       "    <tr>\n",
       "      <th>3</th>\n",
       "      <td>First Man</td>\n",
       "      <td>watch</td>\n",
       "      <td>17/03/2019</td>\n",
       "      <td>Brian</td>\n",
       "      <td>8.0</td>\n",
       "      <td>8.4</td>\n",
       "      <td>8.8</td>\n",
       "      <td>8.0</td>\n",
       "      <td>NaN</td>\n",
       "      <td>8.300</td>\n",
       "    </tr>\n",
       "    <tr>\n",
       "      <th>4</th>\n",
       "      <td>Cloud Atlas</td>\n",
       "      <td>watch</td>\n",
       "      <td>24/03/2019</td>\n",
       "      <td>Liwen</td>\n",
       "      <td>5.0</td>\n",
       "      <td>7.1</td>\n",
       "      <td>5.0</td>\n",
       "      <td>8.3</td>\n",
       "      <td>NaN</td>\n",
       "      <td>6.350</td>\n",
       "    </tr>\n",
       "  </tbody>\n",
       "</table>\n",
       "</div>"
      ],
      "text/plain": [
       "              Title   Type Discussion Date Chosen By  Aaron  Brian  Kenn  \\\n",
       "0           Get Out  watch      24/02/2019     Liwen    7.8    8.5   8.0   \n",
       "1  Mulholland Drive  watch      03/03/2019      Kenn    8.5    9.3   8.5   \n",
       "2       Breadwinner  watch      10/03/2019     Aaron    8.0    7.5   6.8   \n",
       "3         First Man  watch      17/03/2019     Brian    8.0    8.4   8.8   \n",
       "4       Cloud Atlas  watch      24/03/2019     Liwen    5.0    7.1   5.0   \n",
       "\n",
       "   Liwen  Raymond  Average  \n",
       "0    8.0      NaN    8.075  \n",
       "1    8.8      NaN    8.775  \n",
       "2    7.8      NaN    7.525  \n",
       "3    8.0      NaN    8.300  \n",
       "4    8.3      NaN    6.350  "
      ]
     },
     "execution_count": 57,
     "metadata": {},
     "output_type": "execute_result"
    }
   ],
   "source": [
    "disc_df.head()"
   ]
  },
  {
   "cell_type": "code",
   "execution_count": 77,
   "id": "lesbian-cover",
   "metadata": {},
   "outputs": [
    {
     "data": {
      "text/plain": [
       "Chosen By\n",
       "Aaron      7.477882\n",
       "Brian      8.182935\n",
       "Kenn       7.769583\n",
       "Liwen      8.193889\n",
       "Raymond    7.680208\n",
       "Name: Average, dtype: float64"
      ]
     },
     "execution_count": 77,
     "metadata": {},
     "output_type": "execute_result"
    }
   ],
   "source": [
    "disc_df.groupby(\"Chosen By\")[\"Average\"].mean()"
   ]
  },
  {
   "cell_type": "code",
   "execution_count": 78,
   "id": "foreign-shannon",
   "metadata": {},
   "outputs": [
    {
     "data": {
      "image/png": "[encoded data removed]",
      "text/plain": [
       "<Figure size 576x576 with 1 Axes>"
      ]
     },
     "metadata": {
      "needs_background": "light"
     },
     "output_type": "display_data"
    }
   ],
   "source": [
    "ax = disc_df.groupby(\"Chosen By\")[\"Average\"].mean().sort_values().plot(kind=\"bar\")\n",
    "ax.set_ylabel(\"Average Score\")\n",
    "plt.show()"
   ]
  },
  {
   "cell_type": "code",
   "execution_count": 82,
   "id": "hollow-sterling",
   "metadata": {},
   "outputs": [
    {
     "data": {
      "text/plain": [
       "101"
      ]
     },
     "execution_count": 82,
     "metadata": {},
     "output_type": "execute_result"
    }
   ],
   "source": [
    "disc_df[\"Title\"].count()"
   ]
  },
  {
   "cell_type": "code",
   "execution_count": 92,
   "id": "referenced-minutes",
   "metadata": {},
   "outputs": [
    {
     "data": {
      "image/png": "[encoded data removed]",
      "text/plain": [
       "<Figure size 576x576 with 1 Axes>"
      ]
     },
     "metadata": {},
     "output_type": "display_data"
    }
   ],
   "source": [
    "ax = disc_df.groupby(\"Type\")[\"Title\"].count().plot(kind=\"pie\", autopct='%.2f');\n",
    "ax.set_ylabel(\"\");"
   ]
  },
  {
   "cell_type": "code",
   "execution_count": 95,
   "id": "checked-champagne",
   "metadata": {},
   "outputs": [],
   "source": [
    "start_date = disc_df[disc_df[\"Title\"] == \"Get Out\"][\"Discussion Date\"][0]\n",
    "start_date = datetime.strptime(start_date, \"%d/%m/%Y\")"
   ]
  },
  {
   "cell_type": "code",
   "execution_count": 102,
   "id": "lined-effectiveness",
   "metadata": {},
   "outputs": [
    {
     "data": {
      "text/plain": [
       "882"
      ]
     },
     "execution_count": 102,
     "metadata": {},
     "output_type": "execute_result"
    }
   ],
   "source": [
    "total_time = datetime.today() - start_date\n",
    "total_time.days"
   ]
  },
  {
   "cell_type": "code",
   "execution_count": 106,
   "id": "sorted-visiting",
   "metadata": {},
   "outputs": [
    {
     "data": {
      "text/plain": [
       "11759"
      ]
     },
     "execution_count": 106,
     "metadata": {},
     "output_type": "execute_result"
    }
   ],
   "source": [
    "watch_info_df[\"Runtime\"].sum()"
   ]
  },
  {
   "cell_type": "code",
   "execution_count": null,
   "id": "happy-lounge",
   "metadata": {},
   "outputs": [],
   "source": []
  }
 ],
 "metadata": {
  "kernelspec": {
   "display_name": "Python 3",
   "language": "python",
   "name": "python3"
  },
  "language_info": {
   "codemirror_mode": {
    "name": "ipython",
    "version": 3
   },
   "file_extension": ".py",
   "mimetype": "text/x-python",
   "name": "python",
   "nbconvert_exporter": "python",
   "pygments_lexer": "ipython3",
   "version": "3.7.10"
  }
 },
 "nbformat": 4,
 "nbformat_minor": 5
}
