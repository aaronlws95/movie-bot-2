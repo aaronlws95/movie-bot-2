{
 "cells": [
  {
   "cell_type": "code",
   "execution_count": 175,
   "metadata": {},
   "outputs": [],
   "source": [
    "import csv\n",
    "import os\n",
    "\n",
    "import gspread\n",
    "import imdb\n",
    "import pandas as pd\n",
    "from dotenv import load_dotenv\n",
    "from pathlib import Path\n",
    "from oauth2client.service_account import ServiceAccountCredentials"
   ]
  },
  {
   "cell_type": "code",
   "execution_count": 2,
   "metadata": {},
   "outputs": [],
   "source": [
    "# Environment\n",
    "load_dotenv()\n",
    "CREDENTIALS = os.getenv('GOOGLE_CREDENTIALS')\n",
    "SHEET = os.getenv('GOOGLESHEET_ID')"
   ]
  },
  {
   "cell_type": "code",
   "execution_count": 4,
   "metadata": {},
   "outputs": [],
   "source": [
    "scope = [\"https://spreadsheets.google.com/feeds\",\n",
    "         \"https://www.googleapis.com/auth/spreadsheets\",\n",
    "         \"https://www.googleapis.com/auth/drive.file\",\n",
    "         \"https://www.googleapis.com/auth/drive\"]\n",
    "\n",
    "credentials = ServiceAccountCredentials.from_json_keyfile_name(CREDENTIALS + '.json', scope)\n",
    "client = gspread.authorize(credentials)\n",
    "sh = client.open_by_key(SHEET)"
   ]
  },
  {
   "cell_type": "code",
   "execution_count": 174,
   "metadata": {},
   "outputs": [],
   "source": [
    "def upload_to_sheets(sh, data_path):\n",
    "    with open(data_path, 'r', encoding='utf-8') as f:\n",
    "        data = list(csv.reader(f))\n",
    "\n",
    "    worksheet_name = str(Path(data_path).name).split(\".\")[0]\n",
    "    try:\n",
    "        sh.add_worksheet(title=worksheet_name, rows=str(len(csv_file)), cols=str(len(csv_file[0])))\n",
    "    except:\n",
    "        print(f\"Worksheet {worksheet_name} already exists\")\n",
    "\n",
    "    sh.values_update(\n",
    "        worksheet_name,\n",
    "        params={'valueInputOption': 'USER_ENTERED'},\n",
    "        body={'values': data}\n",
    "    )"
   ]
  },
  {
   "cell_type": "code",
   "execution_count": 177,
   "metadata": {},
   "outputs": [],
   "source": [
    "data_files = Path(\"data\").glob(\"**/*\")\n",
    "csv_files = []\n",
    "for f in data_files:\n",
    "    if \"csv\" in str(f):\n",
    "        upload_to_sheets(sh, f)"
   ]
  },
  {
   "cell_type": "code",
   "execution_count": null,
   "metadata": {},
   "outputs": [],
   "source": []
  },
  {
   "cell_type": "code",
   "execution_count": null,
   "metadata": {},
   "outputs": [],
   "source": []
  },
  {
   "cell_type": "code",
   "execution_count": null,
   "metadata": {},
   "outputs": [],
   "source": []
  },
  {
   "cell_type": "code",
   "execution_count": 37,
   "metadata": {},
   "outputs": [],
   "source": [
    "ia = imdb.IMDb()"
   ]
  },
  {
   "cell_type": "code",
   "execution_count": 100,
   "metadata": {},
   "outputs": [],
   "source": [
    "df = pd.read_csv(\"data/discussions.csv\")\n",
    "df[df[\"Type\"] == \"watch\"]"
   ]
  },
  {
   "cell_type": "code",
   "execution_count": 101,
   "metadata": {},
   "outputs": [],
   "source": [
    "watch_list = list(df[df[\"Type\"] == \"watch\"][\"Title\"])"
   ]
  },
  {
   "cell_type": "code",
   "execution_count": 147,
   "metadata": {},
   "outputs": [
    {
     "name": "stderr",
     "output_type": "stream",
     "text": [
      "100%|██████████████████████████████████████████████████████████████████████████████████| 99/99 [10:57<00:00,  6.64s/it]\n"
     ]
    }
   ],
   "source": [
    "data = []\n",
    "data.append(\"Title,Year,Directors,Metascore\\n\")\n",
    "for title in watch_list:\n",
    "    candidate_info = ia.search_movie(title)[0]\n",
    "    year = candidate_info[\"year\"]\n",
    "    directors = \"\\\"\"\n",
    "    movie_data = ia.get_movie(candidate_info.movieID)\n",
    "    if \"directors\" in movie_data:\n",
    "        for d in movie_data[\"directors\"]:\n",
    "            directors += d[\"name\"] + \",\"\n",
    "    directors = directors[:-1] if \",\" in directors else directors\n",
    "    directors += \"\\\"\"\n",
    "    metascore = \"\"\n",
    "    review_data = ia.get_movie_critic_reviews(candidate_info.movieID)[\"data\"]\n",
    "    if \"metascore\" in review_data:\n",
    "        metascore = review_data[\"metascore\"]\n",
    "    data.append(f\"\\\"{title}\\\",{year},{directors},{metascore}\\n\")"
   ]
  },
  {
   "cell_type": "code",
   "execution_count": 164,
   "metadata": {},
   "outputs": [],
   "source": [
    "with open(f\"data/watch_info.csv\", \"w\", encoding='utf-8') as f:\n",
    "    f.writelines(data)"
   ]
  },
  {
   "cell_type": "code",
   "execution_count": 180,
   "metadata": {},
   "outputs": [],
   "source": [
    "upload_to_sheets(sh, \"data/watch_info.csv\")"
   ]
  },
  {
   "cell_type": "code",
   "execution_count": null,
   "metadata": {},
   "outputs": [],
   "source": [
    "    candidate_info = ia.search_movie(title)[0]\n",
    "    year = candidate_info[\"year\"]\n",
    "    directors = \"\\\"\"\n",
    "    movie_data = ia.get_movie(candidate_info.movieID)\n",
    "    if \"directors\" in movie_data:\n",
    "        for d in movie_data[\"directors\"]:\n",
    "            directors += d[\"name\"] + \",\"\n",
    "    directors = directors[:-1] if \",\" in directors else directors\n",
    "    directors += \"\\\"\"\n",
    "    metascore = \"\"\n",
    "    review_data = ia.get_movie_critic_reviews(candidate_info.movieID)[\"data\"]\n",
    "    if \"metascore\" in review_data:\n",
    "        metascore = review_data[\"metascore\"]\n",
    "    data.append(f\"\\\"{title}\\\",{year},{directors},{metascore}\\n\")"
   ]
  }
 ],
 "metadata": {
  "kernelspec": {
   "display_name": "Python 3",
   "language": "python",
   "name": "python3"
  },
  "language_info": {
   "codemirror_mode": {
    "name": "ipython",
    "version": 3
   },
   "file_extension": ".py",
   "mimetype": "text/x-python",
   "name": "python",
   "nbconvert_exporter": "python",
   "pygments_lexer": "ipython3",
   "version": "3.7.10"
  }
 },
 "nbformat": 4,
 "nbformat_minor": 2
}
